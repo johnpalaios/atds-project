{
 "cells": [
  {
   "cell_type": "markdown",
   "id": "80704e7a",
   "metadata": {},
   "source": [
    "##### This notebook file contains the source code of this project in .ipynb format.\n",
    "\n",
    "#### First, we import PySpark & other dependencies :"
   ]
  },
  {
   "cell_type": "code",
   "execution_count": null,
   "id": "f617afdf",
   "metadata": {},
   "outputs": [],
   "source": [
    "import pyspark\n",
    "from pyspark.sql import SparkSession\n",
    "from pyspark.sql.functions import *\n",
    "import datetime as dt\n",
    "import time"
   ]
  },
  {
   "cell_type": "markdown",
   "id": "fee2f6a5",
   "metadata": {},
   "source": [
    "#### Then, we instantiate a SparkSession instance :\n",
    "###### (SparkSession : an entry point to Spark)"
   ]
  },
  {
   "cell_type": "code",
   "execution_count": null,
   "id": "27f103ff",
   "metadata": {},
   "outputs": [],
   "source": [
    "spark = SparkSession\\\n",
    "    .builder\\\n",
    "    .master(\"spark://192.168.0.1:7077\") \\\n",
    "    .appName(\"Taxi-Data-Analytics\") \\\n",
    "    .config(\"spark.driver.memory\", \"4g\") \\\n",
    "    .getOrCreate()"
   ]
  },
  {
   "cell_type": "markdown",
   "id": "3630197f",
   "metadata": {},
   "source": [
    "#### Now, we read the Parquet & Csv files from the HDFS into two separate Dataframes : "
   ]
  },
  {
   "cell_type": "code",
   "execution_count": null,
   "id": "82618677",
   "metadata": {},
   "outputs": [],
   "source": [
    "zone_lookups_filename = \"zone_lookups.parquet\"\n",
    "\n",
    "yellow_trip_data_df = spark.read.parquet(\"hdfs://master:9000/data/yellow_trip_data/*.parquet\")\n",
    "zone_lookups_df = spark.read.parquet(\"hdfs://master:9000/data/{zone_lookups_filename}\", header = True)"
   ]
  }
 ],
 "metadata": {
  "kernelspec": {
   "display_name": "Python 3 (ipykernel)",
   "language": "python",
   "name": "python3"
  },
  "language_info": {
   "codemirror_mode": {
    "name": "ipython",
    "version": 3
   },
   "file_extension": ".py",
   "mimetype": "text/x-python",
   "name": "python",
   "nbconvert_exporter": "python",
   "pygments_lexer": "ipython3",
   "version": "3.10.1"
  }
 },
 "nbformat": 4,
 "nbformat_minor": 5
}
